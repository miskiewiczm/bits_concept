{
 "cells": [
  {
   "cell_type": "code",
   "execution_count": 46,
   "metadata": {},
   "outputs": [
    {
     "name": "stdout",
     "output_type": "stream",
     "text": [
      "ATAGCGAACCCCAACCTTAC - 300 - CCAGTATTGTCGAGGGTACT - 300 - TCTGAGTTAACAGTCCAGCG - 340\n",
      "Verification codes:\n",
      "1. 300\n",
      "2. 600\n",
      "3. 300\n"
     ]
    }
   ],
   "source": [
    "#!/usr/local/bin/python3\n",
    "\n",
    "import random\n",
    "\n",
    "primers = []\n",
    "strand_len = 1000\n",
    "primers_base_name = \"primers_small_set.txt\"\n",
    "\n",
    "# Function to genrate random DNA strand with givel length\n",
    "def random_strand(n):\n",
    "    return \"\".join(random.choice('ACTG') for _ in range(n))\n",
    "    \n",
    "primers_base = open(primers_base_name, \"r\")\n",
    "\n",
    "# Prefare primer database (file primer_base_name conraint list of primers) \n",
    "for line in primers_base:\n",
    "    primers.append(line[:-1])\n",
    "primers_base.close()\n",
    "\n",
    "# how many primers we have in our database\n",
    "number_of_primers = len(primers)\n",
    "\n",
    "# select randomly three primers from our database by its possition\n",
    "str_pr_nr = random.randint(0,number_of_primers)\n",
    "mid_pr_nr = random.randint(0,number_of_primers)\n",
    "end_pr_nr = random.randint(0,number_of_primers)\n",
    "\n",
    "# \n",
    "primer_1 = primers[str_pr_nr]\n",
    "primer_2 = primers[mid_pr_nr]\n",
    "primer_3 = primers[end_pr_nr]\n",
    "\n",
    "# generate DNA fragments to fill the strand \n",
    "f1 = random.randrange(100,strand_len//2,50)\n",
    "f2 = random.randrange(50,strand_len-f1,50)\n",
    "f3 = strand_len-f1-f2-len(primer_1)-len(primer_2)-len(primer_3)\n",
    "\n",
    "f1_comp = random_strand(f1)\n",
    "f2_comp = random_strand(f2)\n",
    "f3_comp = random_strand(f3)\n",
    "\n",
    "# strand with the given length composed of primers and fill fragments\n",
    "strand = primer_1 + f1_comp + primer_2 + f2_comp + primer_3 + f3_comp\n",
    "\n",
    "print(primer_1+\" - \" + str(f1) + \" - \" + primer_2 + \" - \" + str(f2) + \" - \" + primer_3 + \" - \" + str(f3))\n",
    "print(\"Verification codes:\")\n",
    "print(\"1.\", f1)\n",
    "print(\"2.\", f1+f2)\n",
    "print(\"3.\", f2)"
   ]
  },
  {
   "cell_type": "code",
   "execution_count": 1,
   "metadata": {},
   "outputs": [
    {
     "data": {
      "text/plain": [
       "['a', 'b', 'a']"
      ]
     },
     "execution_count": 1,
     "metadata": {},
     "output_type": "execute_result"
    }
   ],
   "source": [
    "[\"a\", \"b\"] + [\"a\"]"
   ]
  },
  {
   "cell_type": "code",
   "execution_count": null,
   "metadata": {},
   "outputs": [],
   "source": []
  }
 ],
 "metadata": {
  "interpreter": {
   "hash": "aee8b7b246df8f9039afb4144a1f6fd8d2ca17a180786b69acc140d282b71a49"
  },
  "kernelspec": {
   "display_name": "Python 3.9.13 64-bit",
   "language": "python",
   "name": "python3"
  },
  "language_info": {
   "codemirror_mode": {
    "name": "ipython",
    "version": 3
   },
   "file_extension": ".py",
   "mimetype": "text/x-python",
   "name": "python",
   "nbconvert_exporter": "python",
   "pygments_lexer": "ipython3",
   "version": "3.9.13"
  },
  "orig_nbformat": 4
 },
 "nbformat": 4,
 "nbformat_minor": 2
}
